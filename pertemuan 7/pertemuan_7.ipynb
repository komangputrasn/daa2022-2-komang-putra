{
 "cells": [
  {
   "cell_type": "code",
   "execution_count": 17,
   "metadata": {},
   "outputs": [],
   "source": [
    "def sequential_search(dlist, item):\n",
    "    pos = 0\n",
    "    found = False\n",
    "\n",
    "    while (pos < len(dlist) and not found):\n",
    "        if (dlist[pos] == item):\n",
    "            found = True\n",
    "        else:\n",
    "            pos = pos + 1\n",
    "    return found, pos"
   ]
  },
  {
   "cell_type": "code",
   "execution_count": 18,
   "metadata": {},
   "outputs": [
    {
     "name": "stdout",
     "output_type": "stream",
     "text": [
      "(True, 1)\n"
     ]
    }
   ],
   "source": [
    "print(sequential_search([11, 23, 58, 27, 77, 43], 23))"
   ]
  },
  {
   "cell_type": "code",
   "execution_count": 19,
   "metadata": {},
   "outputs": [
    {
     "name": "stdout",
     "output_type": "stream",
     "text": [
      "(True, 6)\n"
     ]
    }
   ],
   "source": [
    "print(sequential_search(['a', 'b', 'c', 'd', 'e', 'f', 'g', 'h'], 'g'))"
   ]
  },
  {
   "cell_type": "code",
   "execution_count": 29,
   "metadata": {},
   "outputs": [
    {
     "name": "stdout",
     "output_type": "stream",
     "text": [
      "Hasil =  1000\n"
     ]
    }
   ],
   "source": [
    "bilangan = int(input('Masukan bilangan: '))\n",
    "pangkat = int(input('Masukan pangkat: '))\n",
    "\n",
    "def hitung_pangkat(bilangan, pangkat):\n",
    "    if pangkat > 1:\n",
    "        return bilangan * hitung_pangkat(bilangan, pangkat - 1)\n",
    "    return bilangan\n",
    "\n",
    "hasil = hitung_pangkat(bilangan, pangkat)\n",
    "print('Hasil = ', hasil)"
   ]
  },
  {
   "cell_type": "code",
   "execution_count": null,
   "metadata": {},
   "outputs": [
    {
     "name": "stdout",
     "output_type": "stream",
     "text": [
      "5! = 120\n"
     ]
    }
   ],
   "source": [
    "n = int(input('Masukan nilai n: '))\n",
    "\n",
    "def hitung_faktorial(n):\n",
    "    if n > 2:\n",
    "        return n * hitung_faktorial(n - 1)\n",
    "    return 2\n",
    "\n",
    "faktorial = hitung_faktorial(n)\n",
    "print(f'{n}! = {faktorial}')"
   ]
  },
  {
   "cell_type": "code",
   "execution_count": null,
   "metadata": {},
   "outputs": [
    {
     "name": "stdout",
     "output_type": "stream",
     "text": [
      "4\n"
     ]
    }
   ],
   "source": [
    "def string_match(string, substr):\n",
    "    for i in range(len(string) - len(substr) + 1):\n",
    "        index = i\n",
    "        for j in range(len(substr)):\n",
    "            if string[index] == substr[j]:\n",
    "                index += 1\n",
    "            else:\n",
    "                break\n",
    "            if index - i == len(substr):\n",
    "                return i\n",
    "    return -1\n",
    "\n",
    "print(string_match(\"adbcbdc\", \"bdc\"))"
   ]
  },
  {
   "cell_type": "code",
   "execution_count": null,
   "metadata": {},
   "outputs": [
    {
     "name": "stdout",
     "output_type": "stream",
     "text": [
      "4\n"
     ]
    }
   ],
   "source": [
    "print(string_match(\"123456789\", \"56\"))"
   ]
  },
  {
   "cell_type": "code",
   "execution_count": 21,
   "metadata": {},
   "outputs": [],
   "source": [
    "import random\n",
    "from itertools import permutations\n",
    "\n",
    "alltours = permutations\n",
    "\n",
    "def distance_tours(aTour):\n",
    "    return sum(distance_points(aTour[i - 1], aTour[i])\n",
    "               for i in range(len(aTour)))\n",
    "\n",
    "aCity = complex\n",
    "\n",
    "def distance_points(first, second):\n",
    "    return abs(first - second)\n",
    "\n",
    "def generate_cities(number_of_cities):\n",
    "    seed = 111\n",
    "    width = 500\n",
    "    height = 300\n",
    "\n",
    "    random.seed((number_of_cities, seed))\n",
    "\n",
    "    return frozenset(aCity(random.randint(1, width), \n",
    "                     random.randint(1, height))\n",
    "                     for c in range(number_of_cities))"
   ]
  },
  {
   "cell_type": "code",
   "execution_count": 27,
   "metadata": {},
   "outputs": [],
   "source": [
    "import matplotlib.pyplot as plt\n",
    "\n",
    "def visualize_tour(tour, style='bo-'):\n",
    "    if len(tour) > 1000:\n",
    "        plt.figure(figsize=(15, 30))\n",
    "        start = tour[0:1]\n",
    "        visualize_segment(tour + start, style)\n",
    "        visualize_segment(start, 'rD')\n",
    "\n",
    "def visualize_segment(segment, style='bo-'):\n",
    "    plt.plot([X(c) for c in segment], [Y(c) for c in segment], style, clip_on=False)\n",
    "    plt.axis('scaled')\n",
    "    plt.axis('off')\n",
    "\n",
    "def X(city):\n",
    "    print('X axis')\n",
    "    return city.real\n",
    "\n",
    "def Y(city):\n",
    "    print('Y axis')\n",
    "    return city.imag"
   ]
  },
  {
   "cell_type": "code",
   "execution_count": 23,
   "metadata": {},
   "outputs": [],
   "source": [
    "from time import process_time\n",
    "from collections import Counter\n",
    "\n",
    "def tsp(algorithm, cities):\n",
    "    t0 = process_time()\n",
    "    tour = algorithm(cities)\n",
    "    t1 = process_time()\n",
    "\n",
    "    assert Counter(tour) == Counter(cities)\n",
    "\n",
    "    visualize_tour(tour)\n",
    "\n",
    "    print('{}:{} cities => tour length {:.0f}(in {:.3f} sec)'.format(name(algorithm), len(tour), distance_tours(tour), t1 - t0))\n",
    "\n",
    "def name(algorithm):\n",
    "    return algorithm.__name__.replace('_tsp', '')\n"
   ]
  },
  {
   "cell_type": "code",
   "execution_count": 25,
   "metadata": {},
   "outputs": [],
   "source": [
    "def brute_force(cities):\n",
    "    return shortest_tour(alltours(cities))\n",
    "\n",
    "def shortest_tour(tours):\n",
    "    return min(tours, key=distance_tours)"
   ]
  },
  {
   "cell_type": "code",
   "execution_count": 28,
   "metadata": {},
   "outputs": [
    {
     "name": "stderr",
     "output_type": "stream",
     "text": [
      "C:\\Users\\User\\AppData\\Local\\Temp\\ipykernel_5976\\945110587.py:20: DeprecationWarning: Seeding based on hashing is deprecated\n",
      "since Python 3.9 and will be removed in a subsequent version. The only \n",
      "supported seed types are: None, int, float, str, bytes, and bytearray.\n",
      "  random.seed((number_of_cities, seed))\n"
     ]
    },
    {
     "name": "stdout",
     "output_type": "stream",
     "text": [
      "brute_force:10 cities => tour length 1224(in 13.156 sec)\n"
     ]
    }
   ],
   "source": [
    "tsp(brute_force, generate_cities(10))"
   ]
  },
  {
   "cell_type": "code",
   "execution_count": null,
   "metadata": {},
   "outputs": [],
   "source": []
  }
 ],
 "metadata": {
  "kernelspec": {
   "display_name": "Python 3.10.4 64-bit",
   "language": "python",
   "name": "python3"
  },
  "language_info": {
   "codemirror_mode": {
    "name": "ipython",
    "version": 3
   },
   "file_extension": ".py",
   "mimetype": "text/x-python",
   "name": "python",
   "nbconvert_exporter": "python",
   "pygments_lexer": "ipython3",
   "version": "3.10.4"
  },
  "orig_nbformat": 4,
  "vscode": {
   "interpreter": {
    "hash": "afb734500600fd355917ca529030176ea0ca205570884b88f2f6f7d791fd3fbe"
   }
  }
 },
 "nbformat": 4,
 "nbformat_minor": 2
}
