{
 "cells": [
  {
   "cell_type": "code",
   "execution_count": 1,
   "metadata": {},
   "outputs": [
    {
     "name": "stdout",
     "output_type": "stream",
     "text": [
      "{'a': ['b', 'c'], 'b': ['a', 'd'], 'c': ['a', 'd'], 'd': ['e'], 'e': ['d']}\n"
     ]
    }
   ],
   "source": [
    "graph = {\n",
    "    'a' : ['b', 'c'], \n",
    "    'b' : ['a', 'd'],\n",
    "    'c' : ['a', 'd'], \n",
    "    'd' : ['e'],\n",
    "    'e' : ['d']\n",
    "}\n",
    "\n",
    "print(graph)"
   ]
  },
  {
   "cell_type": "code",
   "execution_count": 2,
   "metadata": {},
   "outputs": [
    {
     "name": "stdout",
     "output_type": "stream",
     "text": [
      "{'T': ['U', 'W'], 'U': ['T', 'V'], 'V': ['U', 'X'], 'W': ['T', 'Z'], 'Z': ['W'], 'X': ['V', 'W', 'S'], 'S': ['X']}\n"
     ]
    }
   ],
   "source": [
    "latihan1 = {\n",
    "    'T' : ['U', 'W'], \n",
    "    'U' : ['T', 'V'],\n",
    "    'V' : ['U', 'X'], \n",
    "    'W' : ['T', 'Z', 'X'], \n",
    "    'Z' : ['W'], \n",
    "    'X' : ['V', 'W', 'S'], \n",
    "    'S' : ['X']\n",
    "}\n",
    "\n",
    "print(latihan1)"
   ]
  },
  {
   "cell_type": "code",
   "execution_count": 3,
   "metadata": {},
   "outputs": [
    {
     "name": "stdout",
     "output_type": "stream",
     "text": [
      "{'R': ['O', 'L'], 'O': ['R', 'P', 'M'], 'M': ['O', 'N'], 'L': ['R', 'P'], 'P': {'O', 'L', 'N'}, 'N': ['M', 'P']}\n"
     ]
    }
   ],
   "source": [
    "latihan2 = {\n",
    "    'R' : ['O', 'L'],\n",
    "    'O' : ['R', 'P', 'M'], \n",
    "    'M' : ['O', 'N'], \n",
    "    'L' : ['R', 'P'], \n",
    "    'P' : {'L', 'O', 'N'}, \n",
    "    'N' : ['M', 'P']\n",
    "}\n",
    "\n",
    "print(latihan2)"
   ]
  },
  {
   "cell_type": "code",
   "execution_count": 4,
   "metadata": {},
   "outputs": [
    {
     "name": "stdout",
     "output_type": "stream",
     "text": [
      "['a', 'b', 'c', 'd', 'e']\n"
     ]
    }
   ],
   "source": [
    "class Graph:\n",
    "    def __init__(self, gdict=None):\n",
    "        if gdict is None:\n",
    "            gdict = []\n",
    "        \n",
    "        self.gdict = gdict\n",
    "    \n",
    "    def getVertices(self):\n",
    "        return list(self.gdict.keys())\n",
    "\n",
    "graph_elements = {\n",
    "    'a' : ['b', 'c'], \n",
    "    'b' : ['a', 'd'], \n",
    "    'c' : ['a', 'd'], \n",
    "    'd' : ['e'], \n",
    "    'e' : ['d']\n",
    "}\n",
    "\n",
    "g = Graph(graph_elements)\n",
    "\n",
    "print(g.getVertices())"
   ]
  },
  {
   "cell_type": "code",
   "execution_count": 5,
   "metadata": {},
   "outputs": [
    {
     "name": "stdout",
     "output_type": "stream",
     "text": [
      "['T', 'U', 'V']\n"
     ]
    }
   ],
   "source": [
    "# TUV\n",
    "\n",
    "latihan3 = {\n",
    "    'T' : ['U', 'V'], \n",
    "    'U' : ['T', 'V'], \n",
    "    'V' : ['T', 'U']\n",
    "}\n",
    "\n",
    "latihan3_g = Graph(latihan3)\n",
    "\n",
    "print(latihan3_g.getVertices())\n",
    "\n",
    "\"\"\"\n",
    "T -- U\n",
    "|  /\n",
    "V\n",
    "\"\"\""
   ]
  },
  {
   "cell_type": "code",
   "execution_count": null,
   "metadata": {},
   "outputs": [],
   "source": [
    "latihan4  = {\n",
    "    \n",
    "}"
   ]
  },
  {
   "cell_type": "code",
   "execution_count": 8,
   "metadata": {},
   "outputs": [
    {
     "name": "stdout",
     "output_type": "stream",
     "text": [
      "[{'b', 'a'}, {'c', 'a'}, {'b', 'd'}, {'c', 'd'}, {'e', 'd'}]\n"
     ]
    }
   ],
   "source": [
    "class Graph:\n",
    "    def __init__(self, gdict=None):\n",
    "        if gdict is None:\n",
    "            gdict = []\n",
    "        \n",
    "        self.gdict = gdict\n",
    "    \n",
    "    def getVertices(self):\n",
    "        return list(self.gdict.keys())\n",
    "\n",
    "    def findEdges(self):\n",
    "        edgeName = []\n",
    "        for vertex in self.gdict:\n",
    "            for nxvertex in self.gdict[vertex]:\n",
    "                if {nxvertex, vertex} not in edgeName:\n",
    "                    edgeName.append({vertex, nxvertex})\n",
    "        return edgeName\n",
    "\n",
    "graph_elements = {\n",
    "    'a' : ['b', 'c'], \n",
    "    'b' : ['a', 'd'], \n",
    "    'c' : ['a', 'd'], \n",
    "    'd' : ['e'], \n",
    "    'e' : ['d']\n",
    "}\n",
    "\n",
    "g = Graph(graph_elements)\n",
    "\n",
    "print(g.findEdges())"
   ]
  },
  {
   "cell_type": "code",
   "execution_count": 9,
   "metadata": {},
   "outputs": [
    {
     "name": "stdout",
     "output_type": "stream",
     "text": [
      "[{'T', 'U'}, {'V', 'T'}, {'V', 'U'}]\n"
     ]
    }
   ],
   "source": [
    "latihan = {\n",
    "    'T' : ['U', 'V'], \n",
    "    'U' : ['T', 'V'], \n",
    "    'V' : ['T', 'U']\n",
    "}\n",
    "\n",
    "g = Graph(latihan3)\n",
    "print(g.findEdges())"
   ]
  },
  {
   "cell_type": "code",
   "execution_count": 10,
   "metadata": {},
   "outputs": [
    {
     "name": "stdout",
     "output_type": "stream",
     "text": [
      "['a', 'b', 'c', 'd', 'e', 'f']\n"
     ]
    }
   ],
   "source": [
    "class Graph:\n",
    "    def __init__(self, gdict=None):\n",
    "        if gdict is None:\n",
    "            gdict = []\n",
    "        \n",
    "        self.gdict = gdict\n",
    "    \n",
    "    def getVertices(self):\n",
    "        return list(self.gdict.keys())\n",
    "\n",
    "    def findEdges(self):\n",
    "        edgeName = []\n",
    "        for vertex in self.gdict:\n",
    "            for nxvertex in self.gdict[vertex]:\n",
    "                if {nxvertex, vertex} not in edgeName:\n",
    "                    edgeName.append({vertex, nxvertex})\n",
    "        return edgeName\n",
    "    \n",
    "    def addVertex(self, vertex):\n",
    "        if vertex not in self.gdict:\n",
    "            self.gdict[vertex] = []\n",
    "\n",
    "graph_elements = {\n",
    "    'a' : ['b', 'c'], \n",
    "    'b' : ['a', 'd'], \n",
    "    'c' : ['a', 'd'], \n",
    "    'd' : ['e'], \n",
    "    'e' : ['d']\n",
    "}\n",
    "\n",
    "g = Graph(graph_elements)\n",
    "\n",
    "g.addVertex('f')\n",
    "\n",
    "print(g.getVertices())\n"
   ]
  },
  {
   "cell_type": "code",
   "execution_count": 12,
   "metadata": {},
   "outputs": [
    {
     "name": "stdout",
     "output_type": "stream",
     "text": [
      "[{'b', 'a'}, {'c', 'a'}, {'b', 'd'}, {'c', 'd'}, {'e', 'd'}, {'e', 'a'}]\n"
     ]
    }
   ],
   "source": [
    "class Graph:\n",
    "    def __init__(self, gdict=None):\n",
    "        if gdict is None:\n",
    "            gdict = []\n",
    "        \n",
    "        self.gdict = gdict\n",
    "    \n",
    "    def getVertices(self):\n",
    "        return list(self.gdict.keys())\n",
    "\n",
    "    def findEdges(self):\n",
    "        edgeName = []\n",
    "        for vertex in self.gdict:\n",
    "            for nxvertex in self.gdict[vertex]:\n",
    "                if {nxvertex, vertex} not in edgeName:\n",
    "                    edgeName.append({vertex, nxvertex})\n",
    "        return edgeName\n",
    "    \n",
    "    def edges(self):\n",
    "        return self.findEdges()\n",
    "\n",
    "    def addEdge(self, edge):\n",
    "        edge = set(edge)\n",
    "        (v1, v2) = tuple(edge)\n",
    "\n",
    "        if v1 in self.gdict:\n",
    "            self.gdict[v1].append(v2)\n",
    "        else:\n",
    "            self.gdict[v1] = [v2]\n",
    "    \n",
    "    def addVertex(self, vertex):\n",
    "        if vertex not in self.gdict:\n",
    "            self.gdict[vertex] = []\n",
    "\n",
    "graph_elements = {\n",
    "    'a' : ['b', 'c'], \n",
    "    'b' : ['a', 'd'], \n",
    "    'c' : ['a', 'd'], \n",
    "    'd' : ['e'], \n",
    "    'e' : ['d']\n",
    "}\n",
    "\n",
    "g = Graph(graph_elements)\n",
    "\n",
    "g.addEdge({'a', 'e'})\n",
    "g.addEdge({'a', 'c'})\n",
    "\n",
    "print(g.edges())"
   ]
  },
  {
   "cell_type": "code",
   "execution_count": 13,
   "metadata": {},
   "outputs": [
    {
     "name": "stdout",
     "output_type": "stream",
     "text": [
      "[{'R', 'O'}, {'R', 'M'}, {'O', 'M'}, {'B', 'A'}, {'C', 'D'}]\n"
     ]
    }
   ],
   "source": [
    "graph_elements = {\n",
    "    'R' : ['O', 'M'], \n",
    "    'O' : ['R', 'M'], \n",
    "    'M' : ['R', 'O']\n",
    "}\n",
    "\n",
    "g = Graph(graph_elements)\n",
    "\n",
    "g.addEdge({'A', 'B'})\n",
    "g.addEdge({'C', 'D'})\n",
    "\n",
    "print(g.edges())"
   ]
  },
  {
   "cell_type": "code",
   "execution_count": 14,
   "metadata": {},
   "outputs": [
    {
     "name": "stdout",
     "output_type": "stream",
     "text": [
      "[{'T', 'U'}, {'V', 'T'}, {'V', 'U'}, {'X', 'W'}, {'Y', 'Z'}]\n"
     ]
    }
   ],
   "source": [
    "graph_elements = {\n",
    "    'T' : ['U', 'V'],\n",
    "    'U' : ['T', 'V'],\n",
    "    'V' : ['T', 'U']\n",
    "}\n",
    "\n",
    "g = Graph(graph_elements)\n",
    "\n",
    "g.addEdge({'W', 'X'})\n",
    "g.addEdge({'Y', 'Z'})\n",
    "\n",
    "print(g.edges())"
   ]
  }
 ],
 "metadata": {
  "kernelspec": {
   "display_name": "Python 3.10.4 64-bit",
   "language": "python",
   "name": "python3"
  },
  "language_info": {
   "codemirror_mode": {
    "name": "ipython",
    "version": 3
   },
   "file_extension": ".py",
   "mimetype": "text/x-python",
   "name": "python",
   "nbconvert_exporter": "python",
   "pygments_lexer": "ipython3",
   "version": "3.10.4"
  },
  "orig_nbformat": 4,
  "vscode": {
   "interpreter": {
    "hash": "afb734500600fd355917ca529030176ea0ca205570884b88f2f6f7d791fd3fbe"
   }
  }
 },
 "nbformat": 4,
 "nbformat_minor": 2
}
