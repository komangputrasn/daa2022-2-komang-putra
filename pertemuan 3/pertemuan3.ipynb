{
 "cells": [
  {
   "cell_type": "code",
   "execution_count": null,
   "metadata": {},
   "outputs": [],
   "source": [
    "# latihan 1\n",
    "\n",
    "import pandas as pd\n",
    "mahasiswa = ['komang', '2021071015', 'informatika', 'desain dan analisis algoritma', '14-9-2022', 'universitas pembangunan jaya']\n",
    "for item in mahasiswa:\n",
    "    print(item)"
   ]
  },
  {
   "cell_type": "code",
   "execution_count": null,
   "metadata": {},
   "outputs": [],
   "source": [
    "# latihan 2\n",
    "warna = ['merah', 'kuning', 'hijau', 'biru', 'hitam', 'putih']\n",
    "warna[0] = 'hijau'\n",
    "\n",
    "print(warna[0])\n",
    "print(warna[1])\n",
    "print(warna[2]) "
   ]
  },
  {
   "cell_type": "code",
   "execution_count": null,
   "metadata": {},
   "outputs": [],
   "source": [
    "# latihan 3\n",
    "print(mahasiswa[1])"
   ]
  },
  {
   "cell_type": "code",
   "execution_count": null,
   "metadata": {},
   "outputs": [],
   "source": [
    "# latihan 4\n",
    "print(mahasiswa[5])"
   ]
  },
  {
   "cell_type": "code",
   "execution_count": null,
   "metadata": {},
   "outputs": [],
   "source": [
    "print(warna[0 : 2])"
   ]
  },
  {
   "cell_type": "code",
   "execution_count": null,
   "metadata": {},
   "outputs": [],
   "source": [
    "print(mahasiswa[1 : 3])"
   ]
  },
  {
   "cell_type": "code",
   "execution_count": null,
   "metadata": {},
   "outputs": [],
   "source": [
    "for item in warna:\n",
    "    print(f\"warna {item}\")"
   ]
  },
  {
   "cell_type": "code",
   "execution_count": null,
   "metadata": {},
   "outputs": [],
   "source": [
    "for item in mahasiswa:\n",
    "    print('UPJ ' + item)"
   ]
  },
  {
   "cell_type": "code",
   "execution_count": null,
   "metadata": {},
   "outputs": [],
   "source": [
    "tuple_test = ('green', 'red', 'blue', 'black', 'white')\n",
    "print(tuple_test)"
   ]
  },
  {
   "cell_type": "code",
   "execution_count": null,
   "metadata": {},
   "outputs": [],
   "source": [
    "UPJ = ('Universitas', 'Pembangunan', 'Jaya')\n",
    "print(UPJ)"
   ]
  },
  {
   "cell_type": "code",
   "execution_count": null,
   "metadata": {},
   "outputs": [],
   "source": [
    "nested_tuple = ((100,), (200, 400, 600), (300,), (400, 800))\n",
    "for x in nested_tuple:\n",
    "    for y in x:\n",
    "        print(y, ' ', end='')\n",
    "    print('')\n",
    "# print(nested_tuple)"
   ]
  },
  {
   "cell_type": "code",
   "execution_count": null,
   "metadata": {},
   "outputs": [],
   "source": [
    "bin_colors = {'manual color' : 'yellow', 'approved color' : 'green', 'refused color' : 'red'}\n",
    "print(bin_colors.get('approved color'))\n",
    "print(bin_colors['approved color'])"
   ]
  },
  {
   "cell_type": "code",
   "execution_count": null,
   "metadata": {},
   "outputs": [],
   "source": [
    "bin_colors['approved color'] = 'purple'\n",
    "print(bin_colors)"
   ]
  },
  {
   "cell_type": "code",
   "execution_count": null,
   "metadata": {},
   "outputs": [],
   "source": [
    "data_mahasiswa = {'nama' : 'komang putra', 'nim' : '2021071015', 'prodi' : 'informatika', 'universitas' : 'upj'}\n",
    "print(data_mahasiswa)"
   ]
  },
  {
   "cell_type": "code",
   "execution_count": null,
   "metadata": {},
   "outputs": [],
   "source": [
    "green = {'grass', 'leaves'}\n",
    "print(green)"
   ]
  },
  {
   "cell_type": "code",
   "execution_count": 21,
   "metadata": {},
   "outputs": [
    {
     "name": "stdout",
     "output_type": "stream",
     "text": [
      "{'jeruk', 'apel', 'salak', 'pisang', 'aa'}\n"
     ]
    }
   ],
   "source": [
    "buah = {'pisang', 'apel', 'salak', 'jeruk', 'apel'}\n",
    "print(buah)"
   ]
  },
  {
   "cell_type": "code",
   "execution_count": 22,
   "metadata": {},
   "outputs": [
    {
     "name": "stdout",
     "output_type": "stream",
     "text": [
      "{'rose', 'blood', 'leaves', 'dadelions', 'fire hydrant'}\n",
      "{'leaves', 'fire hydrant'}\n"
     ]
    }
   ],
   "source": [
    "yellow = {'dadelions', 'leaves', 'fire hydrant'}\n",
    "red = {'rose', 'blood', 'leaves', 'fire hydrant'}\n",
    "\n",
    "print(yellow | red)\n",
    "print(yellow & red)"
   ]
  },
  {
   "cell_type": "code",
   "execution_count": 31,
   "metadata": {},
   "outputs": [],
   "source": [
    "import pandas as pd\n",
    "import numpy as np"
   ]
  },
  {
   "cell_type": "code",
   "execution_count": null,
   "metadata": {},
   "outputs": [],
   "source": [
    "df = pd.DataFrame([\n",
    " ['1', 'Fares', 32, True],\n",
    " ['2', 'Elena', 23, False],\n",
    " ['3', 'Steven', 40, True]])\n",
    "df.columns = ['id', 'name', 'age', 'decision']\n",
    "print(df)"
   ]
  },
  {
   "cell_type": "code",
   "execution_count": null,
   "metadata": {},
   "outputs": [],
   "source": [
    "myMat = np.array([[12, 12, 13], [21, 22, 23], [31, 32, 33]])\n",
    "print(type(myMat))"
   ]
  },
  {
   "cell_type": "code",
   "execution_count": 35,
   "metadata": {},
   "outputs": [
    {
     "name": "stdout",
     "output_type": "stream",
     "text": [
      "Yellow\n",
      "False\n"
     ]
    }
   ],
   "source": [
    "class Stack:\n",
    "  def __init__(self):\n",
    "    self.items = []\n",
    "  def isEmpty(self):\n",
    "    return self.items == []\n",
    "  def push(self, item):\n",
    "    self.items.append(item)\n",
    "  def pop(self):\n",
    "    return self.items.pop()\n",
    "  def peek(self):\n",
    "    return self.items[len(self.items)-I]\n",
    "  def size(self):\n",
    "    return len(self.items)\n",
    "\n",
    "stack = Stack()\n",
    "stack.push('Red')\n",
    "stack.push('Green')\n",
    "stack.push(\"Blue\")\n",
    "stack.push(\"Yellow\")\n",
    "\n",
    "print(stack.pop())\n",
    "print(stack.isEmpty())"
   ]
  },
  {
   "cell_type": "code",
   "execution_count": null,
   "metadata": {},
   "outputs": [],
   "source": []
  }
 ],
 "metadata": {
  "kernelspec": {
   "display_name": "Python 3.10.4 64-bit",
   "language": "python",
   "name": "python3"
  },
  "language_info": {
   "codemirror_mode": {
    "name": "ipython",
    "version": 3
   },
   "file_extension": ".py",
   "mimetype": "text/x-python",
   "name": "python",
   "nbconvert_exporter": "python",
   "pygments_lexer": "ipython3",
   "version": "3.10.4"
  },
  "orig_nbformat": 4,
  "vscode": {
   "interpreter": {
    "hash": "afb734500600fd355917ca529030176ea0ca205570884b88f2f6f7d791fd3fbe"
   }
  }
 },
 "nbformat": 4,
 "nbformat_minor": 2
}
