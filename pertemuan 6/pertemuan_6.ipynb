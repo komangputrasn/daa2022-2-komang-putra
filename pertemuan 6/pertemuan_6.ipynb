{
 "cells": [
  {
   "cell_type": "code",
   "execution_count": 28,
   "metadata": {},
   "outputs": [
    {
     "name": "stdout",
     "output_type": "stream",
     "text": [
      "fibbonaci sequence: \n",
      "0\n",
      "1\n",
      "1\n",
      "2\n",
      "3\n",
      "5\n",
      "8\n",
      "13\n",
      "21\n",
      "34\n",
      "55\n",
      "89\n",
      "144\n",
      "233\n",
      "377\n",
      "610\n",
      "987\n",
      "1597\n",
      "2584\n",
      "4181\n"
     ]
    }
   ],
   "source": [
    "nterms = 20\n",
    "n1, n2 = 0, 1\n",
    "count = 0\n",
    "\n",
    "if nterms <= 0:\n",
    "    print('please input a positive integer')\n",
    "elif nterms == 1:\n",
    "    print(f'fibbonaci sequence up to {nterms} : {n1}')\n",
    "else:\n",
    "    print('fibbonaci sequence: ')\n",
    "    while count < nterms:\n",
    "        print(n1)\n",
    "        nth = n1 + n2\n",
    "\n",
    "        # update value\n",
    "        n1 = n2\n",
    "        n2 = nth\n",
    "\n",
    "        count += 1"
   ]
  },
  {
   "cell_type": "code",
   "execution_count": 29,
   "metadata": {},
   "outputs": [
    {
     "name": "stdout",
     "output_type": "stream",
     "text": [
      "fibbonaci sequence: 0  1  1  2  3  5  8  13  21  34  55  89  144  233  377  610  987  1597  2584  4181  "
     ]
    }
   ],
   "source": [
    "def recur_fibo(n):\n",
    "    if n < 2:\n",
    "        return n\n",
    "    else:\n",
    "        return recur_fibo(n - 1) + recur_fibo(n - 2)\n",
    "\n",
    "nterms = 20\n",
    "\n",
    "if nterms <= 0:\n",
    "    print('please enter a positive integer')\n",
    "else:\n",
    "    print('fibbonaci sequence: ', end='')\n",
    "    for n in range(nterms):\n",
    "        print(recur_fibo(n), ' ', end='')"
   ]
  },
  {
   "cell_type": "code",
   "execution_count": 30,
   "metadata": {},
   "outputs": [
    {
     "name": "stdout",
     "output_type": "stream",
     "text": [
      "fibbonaci sequence: 0  1  "
     ]
    }
   ],
   "source": [
    "nterms = int(input('enter a positive integer: '))\n",
    "\n",
    "if nterms <= 0:\n",
    "    print('please enter a positive integer')\n",
    "else:\n",
    "    print('fibbonaci sequence: ', end='')\n",
    "    for n in range(nterms):\n",
    "        print(recur_fibo(n), ' ', end='')"
   ]
  },
  {
   "cell_type": "code",
   "execution_count": 31,
   "metadata": {},
   "outputs": [],
   "source": [
    "import random\n",
    "from itertools import permutations\n",
    "\n",
    "alltours = permutations\n",
    "aCity = complex\n",
    "\n",
    "def distance_points(first, second):\n",
    "    return abs(first - second)\n",
    "\n",
    "def distance_tour(aTour):\n",
    "    return sum(distance_points(aTour[i - 1], aTour[i]) for i in range(len(aTour)))\n",
    "\n",
    "def generate_cities(nCities):\n",
    "    seed = 111 \n",
    "    width = 500\n",
    "    height = 300\n",
    "\n",
    "    random.seed((nCities, seed))\n",
    "    return frozenset(aCity(random.randint(1, width), random.randint(1, height)) for c in range(nCities))"
   ]
  },
  {
   "cell_type": "code",
   "execution_count": 32,
   "metadata": {},
   "outputs": [],
   "source": [
    "%matplotlib inline\n",
    "import matplotlib.pyplot as plt\n",
    "def X(city):\n",
    "    return city.real\n",
    "\n",
    "def Y(city):\n",
    "    return city.imag \n",
    "\n",
    "def visualize_segment(segment, style='bo-'):\n",
    "    plt.plot([X(c) for c in segment], [Y(c) for c in segment], style, clip_on=False)\n",
    "    plt.axis('scaled')\n",
    "    plt.axis('off')\n",
    "    \n",
    "def visualize_tour(tour, style='bo-'):\n",
    "    if len(tour) > 1000:\n",
    "        plt.figure(figsize=(15, 10))\n",
    "        start = tour[0:1]\n",
    "\n",
    "        visualize_segment(tour + start, style)\n",
    "        visualize_segment(start, 'rD')\n"
   ]
  },
  {
   "cell_type": "code",
   "execution_count": 33,
   "metadata": {},
   "outputs": [],
   "source": [
    "from time import process_time\n",
    "from collections import Counter\n",
    "\n",
    "def name(algorithm):\n",
    "    return algorithm.__name__.replace('_tsp', '')\n",
    "\n",
    "def tsp(algorithm, cities):\n",
    "    t0 = process_time()\n",
    "    tour = algorithm(cities)\n",
    "\n",
    "    t1 = process_time()\n",
    "\n",
    "    assert Counter(tour) == Counter(cities)\n",
    "    visualize_tour(tour)\n",
    "\n",
    "    print(\"{}:{} cities => tour length {:.0f}(in {:.3f} sec)\".format(name(algorithm), len(tour), distance_tour(tour), t1 - t0))"
   ]
  },
  {
   "cell_type": "code",
   "execution_count": 34,
   "metadata": {},
   "outputs": [],
   "source": [
    "def first(collection):\n",
    "    return next(iter(collection))\n",
    "\n",
    "def nearest_neighbor(A, cities):\n",
    "    return min(cities, key=lambda C: distance_points(C, A))\n",
    "\n",
    "def greedy_algorithm(cities, start=None):\n",
    "    C = start or first(cities)\n",
    "    tour = [C]\n",
    "    unvisited = set(cities - {C})\n",
    "    while unvisited:\n",
    "        C = nearest_neighbor(C, unvisited)\n",
    "        tour.append(C)\n",
    "        unvisited.remove(C)\n",
    "    return tour "
   ]
  },
  {
   "cell_type": "code",
   "execution_count": 36,
   "metadata": {},
   "outputs": [
    {
     "name": "stdout",
     "output_type": "stream",
     "text": [
      "greedy_algorithm:10 cities => tour length 1224(in 0.000 sec)\n"
     ]
    },
    {
     "name": "stderr",
     "output_type": "stream",
     "text": [
      "C:\\Users\\User\\AppData\\Local\\Temp\\ipykernel_9980\\1697530520.py:18: DeprecationWarning: Seeding based on hashing is deprecated\n",
      "since Python 3.9 and will be removed in a subsequent version. The only \n",
      "supported seed types are: None, int, float, str, bytes, and bytearray.\n",
      "  random.seed((nCities, seed))\n"
     ]
    }
   ],
   "source": [
    "tsp(greedy_algorithm, generate_cities(10))"
   ]
  },
  {
   "cell_type": "code",
   "execution_count": 40,
   "metadata": {},
   "outputs": [],
   "source": [
    "string = 'HUFFMAN'\n",
    "\n",
    "class NodeTree(object):\n",
    "    def __init__(self, left=None, right=None):\n",
    "        self.left = left\n",
    "        self.right = right\n",
    "\n",
    "    def children(self):\n",
    "        return (self.left, self.right)\n",
    "    \n",
    "    def nodes(self):\n",
    "        return (self.left, self.right)\n",
    "    \n",
    "    def __str__(self):\n",
    "        return '%s_%s' % (self.left, self.right)"
   ]
  },
  {
   "cell_type": "code",
   "execution_count": 41,
   "metadata": {},
   "outputs": [],
   "source": [
    "def huffman_code_tree(node, left=True, binString=''):\n",
    "    if type(node) is str:\n",
    "        return {node: binString}\n",
    "    \n",
    "    (l, r) = node.children()\n",
    "\n",
    "    d = dict()\n",
    "\n",
    "    d.update(huffman_code_tree(l, True, binString + '0'))\n",
    "    d.update(huffman_code_tree(r, False, binString + '1'))\n",
    "\n",
    "    return d"
   ]
  },
  {
   "cell_type": "code",
   "execution_count": 44,
   "metadata": {},
   "outputs": [],
   "source": [
    "def huffman_code(string):\n",
    "    freq = {}\n",
    "    for c in string:\n",
    "        if c in freq:\n",
    "            freq[c] += 1\n",
    "        else:\n",
    "            freq[c] = 1\n",
    "\n",
    "    freq = sorted(freq.items(), key=lambda x: x[1], reverse=True)\n",
    "\n",
    "    nodes = freq\n",
    "\n",
    "    while len(nodes) > 1:\n",
    "        (key1, c1) = nodes[-1]\n",
    "        (key2, c2) = nodes[-2]\n",
    "\n",
    "        nodes = nodes[:-2]\n",
    "        node = NodeTree(key1, key2)\n",
    "        nodes.append((node, c1 + c2))\n",
    "\n",
    "        nodes = sorted(nodes, key=lambda x: x[1], reverse=True)\n",
    "\n",
    "    huffmanCode = huffman_code_tree(nodes[0][0])\n",
    "*\n",
    "    print('Char | Huffman Code')\n",
    "    print('--------------------')\n",
    "    for (char, freq) in freq:\n",
    "        print(' %-4r | %12s ' % (char, huffmanCode[char]))\n"
   ]
  },
  {
   "cell_type": "code",
   "execution_count": 45,
   "metadata": {},
   "outputs": [
    {
     "name": "stdout",
     "output_type": "stream",
     "text": [
      "Char | Huffman Code\n",
      "--------------------\n",
      " 'F'  |           11 \n",
      " 'H'  |           00 \n",
      " 'U'  |          011 \n",
      " 'M'  |          010 \n",
      " 'A'  |          101 \n",
      " 'N'  |          100 \n"
     ]
    }
   ],
   "source": [
    "huffman_code(\"HUFFMAN\")"
   ]
  },
  {
   "cell_type": "code",
   "execution_count": null,
   "metadata": {},
   "outputs": [],
   "source": []
  }
 ],
 "metadata": {
  "kernelspec": {
   "display_name": "Python 3.10.4 64-bit",
   "language": "python",
   "name": "python3"
  },
  "language_info": {
   "codemirror_mode": {
    "name": "ipython",
    "version": 3
   },
   "file_extension": ".py",
   "mimetype": "text/x-python",
   "name": "python",
   "nbconvert_exporter": "python",
   "pygments_lexer": "ipython3",
   "version": "3.10.4"
  },
  "orig_nbformat": 4,
  "vscode": {
   "interpreter": {
    "hash": "afb734500600fd355917ca529030176ea0ca205570884b88f2f6f7d791fd3fbe"
   }
  }
 },
 "nbformat": 4,
 "nbformat_minor": 2
}
