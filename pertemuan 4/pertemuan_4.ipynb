{
 "cells": [
  {
   "cell_type": "code",
   "execution_count": 43,
   "metadata": {},
   "outputs": [],
   "source": [
    "# swap function\n",
    "var1 = 1\n",
    "var2 = 2\n",
    "\n",
    "var1, var2 = var2, var1"
   ]
  },
  {
   "cell_type": "code",
   "execution_count": 44,
   "metadata": {},
   "outputs": [
    {
     "name": "stdout",
     "output_type": "stream",
     "text": [
      "2 1\n"
     ]
    }
   ],
   "source": [
    "print(var1, var2)"
   ]
  },
  {
   "cell_type": "code",
   "execution_count": 45,
   "metadata": {},
   "outputs": [],
   "source": [
    "var3 = 3\n",
    "var1, var2, var3 = var1, var2, var3"
   ]
  },
  {
   "cell_type": "code",
   "execution_count": 46,
   "metadata": {},
   "outputs": [
    {
     "name": "stdout",
     "output_type": "stream",
     "text": [
      "2 1 3\n"
     ]
    }
   ],
   "source": [
    "print(var1, var2, var3)"
   ]
  },
  {
   "cell_type": "code",
   "execution_count": 47,
   "metadata": {},
   "outputs": [],
   "source": [
    "ls = [5, 1, 2, 4, 3, 7, 6, 10, 9]"
   ]
  },
  {
   "cell_type": "code",
   "execution_count": 48,
   "metadata": {},
   "outputs": [
    {
     "name": "stdout",
     "output_type": "stream",
     "text": [
      "0 [5, 1, 2, 4, 3, 7, 6, 10, 9]\n",
      "1 [1, 5, 2, 4, 3, 7, 6, 10, 9]\n",
      "2 [1, 2, 5, 4, 3, 7, 6, 10, 9]\n",
      "3 [1, 2, 4, 5, 3, 7, 6, 10, 9]\n",
      "4 [1, 2, 4, 3, 5, 7, 6, 10, 9]\n",
      "5 [1, 2, 4, 3, 5, 7, 6, 10, 9]\n",
      "6 [1, 2, 4, 3, 5, 6, 7, 10, 9]\n",
      "7 [1, 2, 4, 3, 5, 6, 7, 10, 9]\n",
      "8 [1, 2, 4, 3, 5, 6, 7, 9, 10]\n"
     ]
    }
   ],
   "source": [
    "last_element_idx = len(ls) - 1\n",
    "print(0, ls)\n",
    "\n",
    "for idx in range(last_element_idx):\n",
    "    if ls[idx] > ls[idx + 1]:\n",
    "        ls[idx], ls[idx + 1] = ls[idx + 1], ls[idx]\n",
    "    print(idx + 1, ls)"
   ]
  },
  {
   "cell_type": "code",
   "execution_count": 49,
   "metadata": {},
   "outputs": [],
   "source": [
    "def bubble_sort(ls):\n",
    "    swap_count = 1\n",
    "    pass_count = 0\n",
    "    n = len(ls)\n",
    "    while swap_count > 0 and pass_count < n:\n",
    "        swap_count = 1\n",
    "        for i in range(0, n - pass_count - 1):\n",
    "            if ls[i] > ls[i + 1]:\n",
    "                ls[i], ls[i + 1] = ls[i + 1], ls[i]\n",
    "                swap_count += 1\n",
    "        print(f'Pass {pass_count+ 1} : {ls}')\n",
    "        pass_count += 1\n",
    "    return ls"
   ]
  },
  {
   "cell_type": "code",
   "execution_count": 50,
   "metadata": {},
   "outputs": [
    {
     "name": "stdout",
     "output_type": "stream",
     "text": [
      "Pass 1 : [1, 2, 5, 4, 5, 9, 8, 7, 3, 10]\n",
      "Pass 2 : [1, 2, 4, 5, 5, 8, 7, 3, 9, 10]\n",
      "Pass 3 : [1, 2, 4, 5, 5, 7, 3, 8, 9, 10]\n",
      "Pass 4 : [1, 2, 4, 5, 5, 3, 7, 8, 9, 10]\n",
      "Pass 5 : [1, 2, 4, 5, 3, 5, 7, 8, 9, 10]\n",
      "Pass 6 : [1, 2, 4, 3, 5, 5, 7, 8, 9, 10]\n",
      "Pass 7 : [1, 2, 3, 4, 5, 5, 7, 8, 9, 10]\n",
      "Pass 8 : [1, 2, 3, 4, 5, 5, 7, 8, 9, 10]\n",
      "Pass 9 : [1, 2, 3, 4, 5, 5, 7, 8, 9, 10]\n",
      "Pass 10 : [1, 2, 3, 4, 5, 5, 7, 8, 9, 10]\n"
     ]
    },
    {
     "data": {
      "text/plain": [
       "[1, 2, 3, 4, 5, 5, 7, 8, 9, 10]"
      ]
     },
     "execution_count": 50,
     "metadata": {},
     "output_type": "execute_result"
    }
   ],
   "source": [
    "ls = [5, 1, 2, 9, 4, 5, 10, 8, 7, 3]\n",
    "bubble_sort(ls)"
   ]
  },
  {
   "cell_type": "code",
   "execution_count": 51,
   "metadata": {},
   "outputs": [
    {
     "name": "stdout",
     "output_type": "stream",
     "text": [
      "Pass 1 : [20, 60, 90, 40, 30, 10, 100]\n",
      "Pass 2 : [20, 60, 40, 30, 10, 90, 100]\n",
      "Pass 3 : [20, 40, 30, 10, 60, 90, 100]\n",
      "Pass 4 : [20, 30, 10, 40, 60, 90, 100]\n",
      "Pass 5 : [20, 10, 30, 40, 60, 90, 100]\n",
      "Pass 6 : [10, 20, 30, 40, 60, 90, 100]\n",
      "Pass 7 : [10, 20, 30, 40, 60, 90, 100]\n"
     ]
    },
    {
     "data": {
      "text/plain": [
       "[10, 20, 30, 40, 60, 90, 100]"
      ]
     },
     "execution_count": 51,
     "metadata": {},
     "output_type": "execute_result"
    }
   ],
   "source": [
    "ls = [100, 20, 60, 90, 40, 30, 10]\n",
    "bubble_sort(ls)"
   ]
  },
  {
   "cell_type": "code",
   "execution_count": 55,
   "metadata": {},
   "outputs": [],
   "source": [
    "def insertion_sort(ls):\n",
    "    for i in range(1, len(ls)):\n",
    "        j = i - 1\n",
    "        next = ls[i]\n",
    "\n",
    "        while (ls[j] > next) and (j >= 0):\n",
    "            ls[j + 1] = ls[j]\n",
    "            j -= 1\n",
    "\n",
    "        ls[j + 1] = next\n",
    "    \n",
    "    return ls"
   ]
  },
  {
   "cell_type": "code",
   "execution_count": 56,
   "metadata": {},
   "outputs": [
    {
     "data": {
      "text/plain": [
       "[10, 20, 30, 40, 60, 90, 100]"
      ]
     },
     "execution_count": 56,
     "metadata": {},
     "output_type": "execute_result"
    }
   ],
   "source": [
    "ls = [100, 20, 60, 90, 40, 30, 10]\n",
    "insertion_sort(ls)"
   ]
  },
  {
   "cell_type": "code",
   "execution_count": 57,
   "metadata": {},
   "outputs": [
    {
     "data": {
      "text/plain": [
       "[11, 12, 16, 25, 57, 75, 89]"
      ]
     },
     "execution_count": 57,
     "metadata": {},
     "output_type": "execute_result"
    }
   ],
   "source": [
    "ls = [89, 12, 57, 16, 25, 11, 75]\n",
    "insertion_sort(ls)"
   ]
  },
  {
   "cell_type": "code",
   "execution_count": 66,
   "metadata": {},
   "outputs": [],
   "source": [
    "def selection_sort(ls):\n",
    "    for fill_slot in range(len(ls) - 1, 0, -1):\n",
    "        max_index = 0\n",
    "        for location in range(1, fill_slot + 1):\n",
    "            if ls[location] > ls[max_index]:\n",
    "                max_index = location\n",
    "        ls[fill_slot], ls[max_index] = ls[max_index], ls[fill_slot]\n",
    "    return ls"
   ]
  },
  {
   "cell_type": "code",
   "execution_count": 67,
   "metadata": {},
   "outputs": [
    {
     "data": {
      "text/plain": [
       "[15, 19, 25, 34, 44, 70]"
      ]
     },
     "execution_count": 67,
     "metadata": {},
     "output_type": "execute_result"
    }
   ],
   "source": [
    "ls = [70, 15, 25, 19, 34, 44]\n",
    "selection_sort(ls)"
   ]
  },
  {
   "cell_type": "code",
   "execution_count": 68,
   "metadata": {},
   "outputs": [
    {
     "data": {
      "text/plain": [
       "[12, 16, 25, 57, 89]"
      ]
     },
     "execution_count": 68,
     "metadata": {},
     "output_type": "execute_result"
    }
   ],
   "source": [
    "ls = [89, 12, 57, 16, 25]\n",
    "selection_sort(ls)"
   ]
  },
  {
   "cell_type": "code",
   "execution_count": 69,
   "metadata": {},
   "outputs": [],
   "source": [
    "def linear_search(ls, item):\n",
    "    for elem in ls:\n",
    "        if elem == item:\n",
    "            return True\n",
    "    return False "
   ]
  },
  {
   "cell_type": "code",
   "execution_count": 71,
   "metadata": {},
   "outputs": [
    {
     "data": {
      "text/plain": [
       "False"
      ]
     },
     "execution_count": 71,
     "metadata": {},
     "output_type": "execute_result"
    }
   ],
   "source": [
    "linear_search([1, 4, 2, 3, 5, 1], 13)"
   ]
  },
  {
   "cell_type": "code",
   "execution_count": 72,
   "metadata": {},
   "outputs": [
    {
     "data": {
      "text/plain": [
       "True"
      ]
     },
     "execution_count": 72,
     "metadata": {},
     "output_type": "execute_result"
    }
   ],
   "source": [
    "linear_search([1, 4, 2, 3, 5, 1], 3)"
   ]
  },
  {
   "cell_type": "code",
   "execution_count": 73,
   "metadata": {},
   "outputs": [
    {
     "data": {
      "text/plain": [
       "True"
      ]
     },
     "execution_count": 73,
     "metadata": {},
     "output_type": "execute_result"
    }
   ],
   "source": [
    "linear_search(['y', 'u', 'i', 'w', 'o', 'a', 'q', 'u', 'j', \n",
    "'p'], 'a')"
   ]
  },
  {
   "cell_type": "code",
   "execution_count": 75,
   "metadata": {},
   "outputs": [],
   "source": [
    "def binary_search(ls, item):\n",
    "    first = 0\n",
    "    last = len(ls) - 1\n",
    "    \n",
    "    while first <= last:\n",
    "        mid = (first + last) // 2\n",
    "        if ls[mid] == item:\n",
    "            return True\n",
    "        else:\n",
    "            if item < ls[mid]:\n",
    "                last = mid - 1\n",
    "            else:\n",
    "                first = mid + 1\n",
    "\n",
    "    return False"
   ]
  },
  {
   "cell_type": "code",
   "execution_count": 76,
   "metadata": {},
   "outputs": [
    {
     "name": "stdout",
     "output_type": "stream",
     "text": [
      "True\n",
      "False\n"
     ]
    }
   ],
   "source": [
    "ls = [12, 33, 11, 99, 22, 55, 90]\n",
    "sorted_ls = sorted(ls)\n",
    "\n",
    "print(binary_search(sorted_ls, 12))\n",
    "print(binary_search(sorted_ls, 91))"
   ]
  },
  {
   "cell_type": "code",
   "execution_count": 77,
   "metadata": {},
   "outputs": [
    {
     "name": "stdout",
     "output_type": "stream",
     "text": [
      "True\n"
     ]
    }
   ],
   "source": [
    "ls = ['y', 'u', 'i', 'w', 'o', 'a', 'q', 'u', 'j', \n",
    "'p']\n",
    "\n",
    "sorted_ls = sorted(ls)\n",
    "print(binary_search(sorted_ls, 'a'))"
   ]
  },
  {
   "cell_type": "code",
   "execution_count": 82,
   "metadata": {},
   "outputs": [],
   "source": [
    "def interpolation_search(arr, lo, hi, x):\n",
    " \n",
    "    if (lo <= hi and x >= arr[lo] and x <= arr[hi]):\n",
    " \n",
    "        pos = lo + ((hi - lo) // (arr[hi] - arr[lo]) *\n",
    "                    (x - arr[lo]))\n",
    " \n",
    "        if arr[pos] == x:\n",
    "            return True\n",
    " \n",
    "        if arr[pos] < x:\n",
    "            return interpolation_search(arr, pos + 1,\n",
    "                                       hi, x)\n",
    " \n",
    "        if arr[pos] > x:\n",
    "            return interpolation_search(arr, lo,\n",
    "                                       pos - 1, x)\n",
    "    return False\n",
    " "
   ]
  },
  {
   "cell_type": "code",
   "execution_count": null,
   "metadata": {},
   "outputs": [],
   "source": [
    "ls = [10, 12, 13, 16, 18, 19, 20, 21, 22, 23, 24, 33, 35, 42, 47]\n",
    "n = len(ls)\n",
    "x = 18\n",
    "\n",
    "print(interpolation_search(ls, 0, n - 1, x))"
   ]
  }
 ],
 "metadata": {
  "kernelspec": {
   "display_name": "Python 3.10.4 64-bit",
   "language": "python",
   "name": "python3"
  },
  "language_info": {
   "codemirror_mode": {
    "name": "ipython",
    "version": 3
   },
   "file_extension": ".py",
   "mimetype": "text/x-python",
   "name": "python",
   "nbconvert_exporter": "python",
   "pygments_lexer": "ipython3",
   "version": "3.10.4"
  },
  "orig_nbformat": 4,
  "vscode": {
   "interpreter": {
    "hash": "afb734500600fd355917ca529030176ea0ca205570884b88f2f6f7d791fd3fbe"
   }
  }
 },
 "nbformat": 4,
 "nbformat_minor": 2
}
