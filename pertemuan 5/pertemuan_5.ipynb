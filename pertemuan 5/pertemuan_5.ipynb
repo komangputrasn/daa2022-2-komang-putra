{
 "cells": [
  {
   "cell_type": "code",
   "execution_count": 20,
   "metadata": {},
   "outputs": [],
   "source": [
    "from time import perf_counter\n",
    "def get_execution_time(func):\n",
    "    start = perf_counter()\n",
    "    func()\n",
    "    stop = perf_counter()\n",
    "    print(stop - start)"
   ]
  },
  {
   "cell_type": "code",
   "execution_count": 3,
   "metadata": {},
   "outputs": [],
   "source": [
    "# hitung inversi dengan brute force\n",
    "def count_inversion(arr):\n",
    "    count = 0\n",
    "    for i in range(len(arr) - 1):\n",
    "        for j in range(i, len(arr)):\n",
    "            if arr[j] < arr[i]:\n",
    "                count += 1\n",
    "    return count "
   ]
  },
  {
   "cell_type": "code",
   "execution_count": 7,
   "metadata": {},
   "outputs": [
    {
     "data": {
      "text/plain": [
       "6"
      ]
     },
     "execution_count": 7,
     "metadata": {},
     "output_type": "execute_result"
    }
   ],
   "source": [
    "count_inversion([1, 3, 5, 10, 2, 6, 8, 9])"
   ]
  },
  {
   "cell_type": "code",
   "execution_count": 9,
   "metadata": {},
   "outputs": [],
   "source": [
    "# hitung inversi dengan divide and conquer\n",
    "\n",
    "def count_inversion(arr):\n",
    "    count = 0\n",
    "    if (len(arr) < 2):\n",
    "        return count\n",
    "    \n",
    "    mid = len(arr) // 2\n",
    "    left = arr[: mid]\n",
    "    right = arr[mid :]\n",
    "\n",
    "    count += count_inversion(left)\n",
    "    count += count_inversion(right)\n",
    "\n",
    "    i = j = k = 0\n",
    "\n",
    "    while i < len(left) and j < len(right):\n",
    "        if left[i] < right[j]:\n",
    "            arr[k] = left[i]\n",
    "            i += 1\n",
    "        else:\n",
    "            arr[k] = right[j]\n",
    "            j += 1\n",
    "            count += mid - i\n",
    "        k += 1\n",
    "    \n",
    "    while i < len(left):\n",
    "        arr[k] = left[i]\n",
    "        i += 1\n",
    "        k += 1\n",
    "    \n",
    "    while j < len(right):\n",
    "        arr[k] = right[j]\n",
    "        j += 1\n",
    "        k += 1\n",
    "    \n",
    "    return count\n"
   ]
  },
  {
   "cell_type": "code",
   "execution_count": 26,
   "metadata": {},
   "outputs": [
    {
     "data": {
      "text/plain": [
       "0"
      ]
     },
     "execution_count": 26,
     "metadata": {},
     "output_type": "execute_result"
    }
   ],
   "source": [
    "count_inversion([4, 7, 9, 10, 1, 2, 8, 12])"
   ]
  },
  {
   "cell_type": "code",
   "execution_count": 12,
   "metadata": {},
   "outputs": [],
   "source": [
    "def max_sub_sum(arr):\n",
    "    max_so_far = 0\n",
    "    max_ending_here = 0\n",
    "    for i in range(len(arr)):\n",
    "        max_ending_here +=arr[i]\n",
    "        if max_ending_here > max_so_far:\n",
    "            max_so_far = max_ending_here\n",
    "        if max_ending_here < 0:\n",
    "            max_ending_here = 0\n",
    "    return max_so_far"
   ]
  },
  {
   "cell_type": "code",
   "execution_count": 13,
   "metadata": {},
   "outputs": [
    {
     "data": {
      "text/plain": [
       "11"
      ]
     },
     "execution_count": 13,
     "metadata": {},
     "output_type": "execute_result"
    }
   ],
   "source": [
    "max_sub_sum([-2, -5, 6, 2, -3, 1, 5, -6])"
   ]
  },
  {
   "cell_type": "code",
   "execution_count": 14,
   "metadata": {},
   "outputs": [],
   "source": [
    "def maxCrossingSum(arr,low,mid,high):\n",
    "    result = 0\n",
    "    leftSum = float('-infinity')\n",
    "\n",
    "    for i in range(mid, low - 1, -1):\n",
    "        result += arr[i]\n",
    "        if result > leftSum:\n",
    "            leftSum = result\n",
    "\n",
    "    result = 0\n",
    "    rightSum = float('-infinity')\n",
    "\n",
    "    for i in range(mid+1,high+1):\n",
    "        result += arr[i]\n",
    "        if result > rightSum:\n",
    "            rightSum = result\n",
    "            \n",
    "    return leftSum + rightSum"
   ]
  },
  {
   "cell_type": "code",
   "execution_count": 15,
   "metadata": {},
   "outputs": [],
   "source": [
    "def maxSum(arr,low,high):\n",
    "    if low == high:\n",
    "        return arr[low]\n",
    "\n",
    "    mid = (low + high) // 2\n",
    "    return max(maxSum(arr, low, mid),maxSum(arr, mid + 1, high), maxCrossingSum(arr, low, mid, high))\n"
   ]
  },
  {
   "cell_type": "code",
   "execution_count": 18,
   "metadata": {},
   "outputs": [
    {
     "data": {
      "text/plain": [
       "11"
      ]
     },
     "execution_count": 18,
     "metadata": {},
     "output_type": "execute_result"
    }
   ],
   "source": [
    "arr = [-2, -5, 6, 2, -3, 1, 5, -6]\n",
    "\n",
    "maxSum(arr, 0, len(arr) - 1)"
   ]
  },
  {
   "cell_type": "code",
   "execution_count": 29,
   "metadata": {},
   "outputs": [],
   "source": [
    "# longest common prefix\n",
    "\n",
    "def common_prefix(str1, str2):\n",
    "    n1 = len(str1)\n",
    "    n2 = len(str2)\n",
    "\n",
    "    i = j = 0\n",
    "    s = \"\"\n",
    "\n",
    "    while i < n1 and j < n2:\n",
    "        if str1[i] == str2[j]:\n",
    "            s += str1[i]\n",
    "            i += 1\n",
    "            j += 1\n",
    "        else:\n",
    "            break\n",
    "    \n",
    "    return s\n",
    "\n",
    "def longest_common_prefix(arr, low, high):\n",
    "    if low == high:\n",
    "        return arr[low]\n",
    "\n",
    "    mid =  (low + high) // 2\n",
    "    \n",
    "    result1 = longest_common_prefix(arr, low, mid)\n",
    "    result2 = longest_common_prefix(arr, mid + 1, high)\n",
    "    result = common_prefix(result1, result2)\n",
    "\n",
    "    return result"
   ]
  },
  {
   "cell_type": "code",
   "execution_count": 30,
   "metadata": {},
   "outputs": [
    {
     "name": "stdout",
     "output_type": "stream",
     "text": [
      "gee\n"
     ]
    }
   ],
   "source": [
    "arr = ['geeksforgeeks', 'geeks', 'geek', 'geek', 'geezer']\n",
    "result = longest_common_prefix(arr, 0, len(arr) - 1)\n",
    "print(result)"
   ]
  },
  {
   "cell_type": "code",
   "execution_count": 31,
   "metadata": {},
   "outputs": [
    {
     "name": "stdout",
     "output_type": "stream",
     "text": [
      "ap\n"
     ]
    }
   ],
   "source": [
    "arr = ['apple', 'ape', 'april']\n",
    "result = longest_common_prefix(arr, 0, len(arr) - 1)\n",
    "print(result)"
   ]
  },
  {
   "cell_type": "code",
   "execution_count": 32,
   "metadata": {},
   "outputs": [],
   "source": [
    "def median_of_array(arr1, arr2, n):\n",
    "    m1 = -1\n",
    "    m2 = -1\n",
    "\n",
    "    count = 0\n",
    "    i = j = 0\n",
    "\n",
    "    while count < n + 1:\n",
    "        count += 1\n",
    "        if i == n:\n",
    "            m1 = m2\n",
    "            m2 = arr2[0]\n",
    "            break\n",
    "        if j == n:\n",
    "            m1 = m2\n",
    "            m2 = arr1[0]\n",
    "            break\n",
    "        if arr1[i] < arr2[j]:\n",
    "            m1 = m2\n",
    "            m2 = arr2[j]\n",
    "            j += 1\n",
    "            \n",
    "    return (m1 + m2) // 2"
   ]
  },
  {
   "cell_type": "code",
   "execution_count": 33,
   "metadata": {},
   "outputs": [
    {
     "name": "stdout",
     "output_type": "stream",
     "text": [
      "23\n"
     ]
    }
   ],
   "source": [
    "arr1 = [1, 12, 15, 26, 38]\n",
    "arr2 = [2, 13, 17, 30, 45]\n",
    "print(median_of_array(arr1, arr2, len(arr1)))"
   ]
  },
  {
   "cell_type": "code",
   "execution_count": 36,
   "metadata": {},
   "outputs": [],
   "source": [
    "# floor in sorted array\n",
    "def floor_sorted(arr, low, high, x):\n",
    "    if low > high:\n",
    "        return -1\n",
    "    if arr[low] > x:\n",
    "        return -1\n",
    "    if arr[high] <= x:\n",
    "        return arr[high]\n",
    "    \n",
    "    mid = (low + high) // 2\n",
    "\n",
    "    if arr[mid] == x:\n",
    "        return arr[mid]\n",
    "    if mid > 0 and x >= arr[mid - 1] and arr[mid] > x:\n",
    "        return arr[mid - 1]\n",
    "    if mid < high and x < arr[mid + 1] and x >= arr[mid]:\n",
    "        return arr[mid]\n",
    "\n",
    "    if x > arr[mid]:\n",
    "        return floor_sorted(arr, mid + 1, high, x)\n",
    "    else:\n",
    "        return floor_sorted(arr, low, mid - 1, x) "
   ]
  },
  {
   "cell_type": "code",
   "execution_count": 37,
   "metadata": {},
   "outputs": [
    {
     "name": "stdout",
     "output_type": "stream",
     "text": [
      "2\n"
     ]
    }
   ],
   "source": [
    "arr = [1, 2, 8, 10, 12, 14, 19]\n",
    "x = 5\n",
    "print(floor_sorted(arr, 0, len(arr) - 1, x))"
   ]
  },
  {
   "cell_type": "code",
   "execution_count": 40,
   "metadata": {},
   "outputs": [],
   "source": [
    "def closest_number(arr, low, high, x):\n",
    "    if low > high:\n",
    "        return -1\n",
    "    if arr[high] <= x:\n",
    "        return arr[high]\n",
    "    if arr[low] >= x:\n",
    "        return arr[low]\n",
    "    \n",
    "    mid = (low + high) // 2\n",
    "\n",
    "    if arr[mid] == x:\n",
    "        return arr[mid]\n",
    "\n",
    "    abs_mid = abs(arr[mid] - x)\n",
    "    if mid > 0:\n",
    "        abs_left = abs(arr[mid - 1] - x)\n",
    "        if abs_left < abs_mid:\n",
    "            return closest_number(arr, low, mid - 1, x)\n",
    "    if mid < high:\n",
    "        abs_left = abs(arr[mid + 1] - x)\n",
    "        if abs_right < abs_mid:\n",
    "            return closest_number(arr, mid + 1, high, x)\n",
    "\n",
    "    return arr[mid]\n",
    "     "
   ]
  },
  {
   "cell_type": "code",
   "execution_count": 41,
   "metadata": {},
   "outputs": [
    {
     "name": "stdout",
     "output_type": "stream",
     "text": [
      "9\n"
     ]
    }
   ],
   "source": [
    "arr = [2, 5, 6, 7, 8, 8, 9]\n",
    "x = 9\n",
    "print(closest_number(arr, 0, len(arr) - 1, x))"
   ]
  },
  {
   "cell_type": "code",
   "execution_count": 45,
   "metadata": {},
   "outputs": [],
   "source": [
    "def fixed_point(arr, low, high):\n",
    "    if low > high:\n",
    "        return -1\n",
    "    if arr[high] == high:\n",
    "        return arr[high]\n",
    "    if arr[low] == low:\n",
    "        return arr[low]\n",
    "    \n",
    "    mid = (low + high) // 2\n",
    "    if arr[mid] == mid:\n",
    "        return arr[mid]\n",
    "    if mid > arr[mid]:\n",
    "        return fixed_point(arr, mid + 1, high)\n",
    "    else:\n",
    "        return fixed_point(arr, low, mid - 1)"
   ]
  },
  {
   "cell_type": "code",
   "execution_count": 46,
   "metadata": {},
   "outputs": [
    {
     "name": "stdout",
     "output_type": "stream",
     "text": [
      "1\n"
     ]
    }
   ],
   "source": [
    "arr = [9, 1, 4, 5, 2]\n",
    "print(fixed_point(arr, 0, len(arr) - 1))"
   ]
  }
 ],
 "metadata": {
  "kernelspec": {
   "display_name": "Python 3.10.4 64-bit",
   "language": "python",
   "name": "python3"
  },
  "language_info": {
   "codemirror_mode": {
    "name": "ipython",
    "version": 3
   },
   "file_extension": ".py",
   "mimetype": "text/x-python",
   "name": "python",
   "nbconvert_exporter": "python",
   "pygments_lexer": "ipython3",
   "version": "3.10.4"
  },
  "orig_nbformat": 4,
  "vscode": {
   "interpreter": {
    "hash": "afb734500600fd355917ca529030176ea0ca205570884b88f2f6f7d791fd3fbe"
   }
  }
 },
 "nbformat": 4,
 "nbformat_minor": 2
}
