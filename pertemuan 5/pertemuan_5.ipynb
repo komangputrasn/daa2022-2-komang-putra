{
 "cells": [
  {
   "cell_type": "code",
   "execution_count": 3,
   "metadata": {},
   "outputs": [],
   "source": [
    "# hitung inversi dengan brute force\n",
    "def count_inversion(arr):\n",
    "    count = 0\n",
    "    for i in range(len(arr) - 1):\n",
    "        for j in range(i, len(arr)):\n",
    "            if arr[j] < arr[i]:\n",
    "                count += 1\n",
    "    return count "
   ]
  },
  {
   "cell_type": "code",
   "execution_count": 7,
   "metadata": {},
   "outputs": [
    {
     "data": {
      "text/plain": [
       "6"
      ]
     },
     "execution_count": 7,
     "metadata": {},
     "output_type": "execute_result"
    }
   ],
   "source": [
    "count_inversion([1, 3, 5, 10, 2, 6, 8, 9])"
   ]
  },
  {
   "cell_type": "code",
   "execution_count": 8,
   "metadata": {},
   "outputs": [
    {
     "ename": "IndentationError",
     "evalue": "expected an indented block after 'while' statement on line 27 (1311972884.py, line 28)",
     "output_type": "error",
     "traceback": [
      "\u001b[1;36m  Cell \u001b[1;32mIn [8], line 28\u001b[1;36m\u001b[0m\n\u001b[1;33m    arr[k]=left[i]\u001b[0m\n\u001b[1;37m    ^\u001b[0m\n\u001b[1;31mIndentationError\u001b[0m\u001b[1;31m:\u001b[0m expected an indented block after 'while' statement on line 27\n"
     ]
    }
   ],
   "source": [
    "# hitung inversi dengan divide and conquer\n",
    "def countInversion(arr):\n",
    "    count = 0\n",
    "    if (len(arr) < 2):\n",
    "        return count\n",
    "    \n",
    "    mid = len(arr) // 2\n",
    "    left = arr[: mid]\n",
    "    right = arr[mid :]\n",
    "\n",
    "    count += countInversion(left)\n",
    "    count += countInversion(right)\n",
    "\n",
    "    i = j = k = 0\n",
    "\n",
    "    while i < len(left) and j < len(right):\n",
    "        if left[i] < right[j]:\n",
    "            arr[k] = left[i]\n",
    "            i += 1\n",
    "        else:\n",
    "            arr[k] = right[j]\n",
    "            j += 1\n",
    "            count += mid - i\n",
    "        k += 1\n",
    "    \n",
    "    while i < len(left):\n",
    "        arr[k] = left[i]\n",
    "        i += 1\n",
    "        k += 1\n",
    "    \n",
    "    while j < len(right):\n",
    "        arr[k] = right[j]\n",
    "        j += 1\n",
    "        k += 1\n",
    "    \n",
    "    return count\n"
   ]
  }
 ],
 "metadata": {
  "kernelspec": {
   "display_name": "Python 3.10.4 64-bit",
   "language": "python",
   "name": "python3"
  },
  "language_info": {
   "codemirror_mode": {
    "name": "ipython",
    "version": 3
   },
   "file_extension": ".py",
   "mimetype": "text/x-python",
   "name": "python",
   "nbconvert_exporter": "python",
   "pygments_lexer": "ipython3",
   "version": "3.10.4"
  },
  "orig_nbformat": 4,
  "vscode": {
   "interpreter": {
    "hash": "afb734500600fd355917ca529030176ea0ca205570884b88f2f6f7d791fd3fbe"
   }
  }
 },
 "nbformat": 4,
 "nbformat_minor": 2
}
